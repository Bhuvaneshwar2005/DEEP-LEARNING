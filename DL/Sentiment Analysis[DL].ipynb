{
 "cells": [
  {
   "cell_type": "code",
   "execution_count": 124,
   "id": "bd0f036c",
   "metadata": {},
   "outputs": [],
   "source": [
    "import numpy as np\n",
    "import matplotlib.pyplot as plt\n",
    "from tensorflow.keras.models import Sequential\n",
    "from tensorflow.keras.layers import Dense, Embedding, GlobalAveragePooling1D\n",
    "from tensorflow.keras.preprocessing.text import Tokenizer\n",
    "from tensorflow.keras.preprocessing.sequence import pad_sequences\n",
    "from sklearn.model_selection import train_test_split\n",
    "from sklearn.metrics import classification_report"
   ]
  },
  {
   "cell_type": "code",
   "execution_count": 134,
   "id": "6cae1b18",
   "metadata": {},
   "outputs": [],
   "source": [
    "texts = [\n",
    "    \"I love this product!\", \n",
    "    \"This is the worst thing I've ever bought.\", \n",
    "    \"It's okay, not great but not terrible.\",\n",
    "    \"Absolutely fantastic!\", \n",
    "    \"I hate it.\",\n",
    "    \"Not bad, could be better.\",\n",
    "    \"This is amazing, exceeded my expectations.\",\n",
    "    \"Terrible, I want a refund.\",\n",
    "    \"Decent product for the price.\",\n",
    "    \"Awful, do not buy this!\",\n",
    "    \"This item is exactly what I needed, very satisfied.\",\n",
    "    \"The quality is poor, I wouldn't recommend it.\",\n",
    "    \"It's an alright purchase, nothing special.\",\n",
    "    \"Exceeded my expectations, will buy again!\",\n",
    "    \"I had high hopes but it didn't meet them.\",\n",
    "    \"Better than I expected, good value for money.\",\n",
    "    \"Very disappointing, not worth the money.\",\n",
    "    \"I'm happy with this purchase, it works great.\",\n",
    "    \"Not worth it, it broke after one use.\",\n",
    "    \"I am pleased with this item, it does the job.\",\n",
    "    \"Terrible experience, would not buy again.\",\n",
    "    \"The product is decent, but the shipping was slow.\",\n",
    "    \"I'm impressed with the performance, definitely worth buying.\",\n",
    "    \"This product is subpar, had issues from the start.\",\n",
    "    \"Good quality and fast delivery, very happy.\",\n",
    "    \"This was a waste of money, very unhappy.\",\n",
    "    \"It's okay, but I've had better products.\",\n",
    "    \"I would highly recommend this to others!\",\n",
    "    \"The worst purchase I've ever made.\",\n",
    "    \"The product is as described, no complaints.\",\n",
    "    \"I regret buying this, it's not what I expected.\",\n",
    "    \"Fantastic product, I’m extremely satisfied.\",\n",
    "    \"It's a decent item for the price.\",\n",
    "    \"Very poor quality, will be returning it.\",\n",
    "    \"This is an excellent product, I’m very happy.\",\n",
    "    \"The product does not match the description.\",\n",
    "    \"I’m content with my purchase, everything is fine.\",\n",
    "    \"The quality is acceptable for the price.\",\n",
    "    \"Absolutely awful, do not waste your money.\",\n",
    "    \"This exceeded my expectations in every way.\"\n",
    "    \n",
    "]\n",
    "\n",
    "\n",
    "labels = [\n",
    "    2, 0, 1, 2, 0,\n",
    "    1, 2, 0, 1, 0,\n",
    "    2, 0, 1, 2, 0,\n",
    "    2, 0, 2, 0, 1,\n",
    "    2, 0, 1, 0, 0,\n",
    "    2, 1, 0, 0, 2,\n",
    "    0, 0, 2, 0, 1,\n",
    "    0, 1, 1, 0, 2\n",
    "    \n",
    "]\n"
   ]
  },
  {
   "cell_type": "code",
   "execution_count": 135,
   "id": "3e4af64d",
   "metadata": {},
   "outputs": [],
   "source": [
    "tokenizer = Tokenizer(num_words=10000)\n",
    "tokenizer.fit_on_texts(texts)\n",
    "sequences = tokenizer.texts_to_sequences(texts)\n",
    "padded_sequences = pad_sequences(sequences, maxlen=10)"
   ]
  },
  {
   "cell_type": "code",
   "execution_count": 136,
   "id": "3c2b1aec",
   "metadata": {},
   "outputs": [],
   "source": [
    "# Encode labels (assuming 0 = negative, 1 = neutral, 2 = positive)\n",
    "labels = np.array(labels)"
   ]
  },
  {
   "cell_type": "code",
   "execution_count": 137,
   "id": "5e28a0bf",
   "metadata": {},
   "outputs": [],
   "source": [
    "X_train, X_val, y_train, y_val = train_test_split(padded_sequences, labels, test_size=0.2, random_state=42)"
   ]
  },
  {
   "cell_type": "code",
   "execution_count": 138,
   "id": "83b0cb0a",
   "metadata": {},
   "outputs": [],
   "source": [
    "model = Sequential([\n",
    "    Embedding(input_dim=10000, output_dim=16, input_length=10),\n",
    "    GlobalAveragePooling1D(),\n",
    "    Dense(16, activation='relu'),\n",
    "    Dense(3, activation='softmax')\n",
    "])"
   ]
  },
  {
   "cell_type": "code",
   "execution_count": 139,
   "id": "17b6f92b",
   "metadata": {},
   "outputs": [],
   "source": [
    "model.compile(optimizer='adam', loss='sparse_categorical_crossentropy', metrics=['accuracy'])"
   ]
  },
  {
   "cell_type": "code",
   "execution_count": 140,
   "id": "9a95735f",
   "metadata": {},
   "outputs": [
    {
     "name": "stdout",
     "output_type": "stream",
     "text": [
      "Epoch 1/10\n",
      "1/1 [==============================] - 1s 689ms/step - loss: 1.0974 - accuracy: 0.3750 - val_loss: 1.1023 - val_accuracy: 0.2500\n",
      "Epoch 2/10\n",
      "1/1 [==============================] - 0s 79ms/step - loss: 1.0954 - accuracy: 0.3750 - val_loss: 1.1029 - val_accuracy: 0.2500\n",
      "Epoch 3/10\n",
      "1/1 [==============================] - 0s 47ms/step - loss: 1.0934 - accuracy: 0.5000 - val_loss: 1.1035 - val_accuracy: 0.1250\n",
      "Epoch 4/10\n",
      "1/1 [==============================] - 0s 47ms/step - loss: 1.0915 - accuracy: 0.5625 - val_loss: 1.1041 - val_accuracy: 0.1250\n",
      "Epoch 5/10\n",
      "1/1 [==============================] - 0s 47ms/step - loss: 1.0897 - accuracy: 0.5625 - val_loss: 1.1049 - val_accuracy: 0.1250\n",
      "Epoch 6/10\n",
      "1/1 [==============================] - 0s 46ms/step - loss: 1.0878 - accuracy: 0.5938 - val_loss: 1.1059 - val_accuracy: 0.1250\n",
      "Epoch 7/10\n",
      "1/1 [==============================] - 0s 65ms/step - loss: 1.0860 - accuracy: 0.5625 - val_loss: 1.1067 - val_accuracy: 0.1250\n",
      "Epoch 8/10\n",
      "1/1 [==============================] - 0s 60ms/step - loss: 1.0842 - accuracy: 0.5625 - val_loss: 1.1075 - val_accuracy: 0.1250\n",
      "Epoch 9/10\n",
      "1/1 [==============================] - 0s 47ms/step - loss: 1.0824 - accuracy: 0.5938 - val_loss: 1.1083 - val_accuracy: 0.1250\n",
      "Epoch 10/10\n",
      "1/1 [==============================] - 0s 63ms/step - loss: 1.0806 - accuracy: 0.5938 - val_loss: 1.1089 - val_accuracy: 0.1250\n"
     ]
    }
   ],
   "source": [
    "history = model.fit(X_train, y_train, epochs=10, validation_data=(X_val, y_val))"
   ]
  },
  {
   "cell_type": "code",
   "execution_count": 141,
   "id": "e1c46c1a",
   "metadata": {},
   "outputs": [
    {
     "name": "stdout",
     "output_type": "stream",
     "text": [
      "1/1 [==============================] - 0s 79ms/step\n",
      "              precision    recall  f1-score   support\n",
      "\n",
      "           0       0.00      0.00      0.00         3\n",
      "           1       0.00      0.00      0.00         4\n",
      "           2       0.20      1.00      0.33         1\n",
      "\n",
      "    accuracy                           0.12         8\n",
      "   macro avg       0.07      0.33      0.11         8\n",
      "weighted avg       0.03      0.12      0.04         8\n",
      "\n"
     ]
    },
    {
     "name": "stderr",
     "output_type": "stream",
     "text": [
      "C:\\Users\\ARAVINTH1\\anaconda3\\lib\\site-packages\\sklearn\\metrics\\_classification.py:1318: UndefinedMetricWarning: Precision and F-score are ill-defined and being set to 0.0 in labels with no predicted samples. Use `zero_division` parameter to control this behavior.\n",
      "  _warn_prf(average, modifier, msg_start, len(result))\n",
      "C:\\Users\\ARAVINTH1\\anaconda3\\lib\\site-packages\\sklearn\\metrics\\_classification.py:1318: UndefinedMetricWarning: Precision and F-score are ill-defined and being set to 0.0 in labels with no predicted samples. Use `zero_division` parameter to control this behavior.\n",
      "  _warn_prf(average, modifier, msg_start, len(result))\n",
      "C:\\Users\\ARAVINTH1\\anaconda3\\lib\\site-packages\\sklearn\\metrics\\_classification.py:1318: UndefinedMetricWarning: Precision and F-score are ill-defined and being set to 0.0 in labels with no predicted samples. Use `zero_division` parameter to control this behavior.\n",
      "  _warn_prf(average, modifier, msg_start, len(result))\n"
     ]
    }
   ],
   "source": [
    "y_pred = model.predict(X_val)\n",
    "y_pred_classes = np.argmax(y_pred, axis=1)\n",
    "print(classification_report(y_val, y_pred_classes))"
   ]
  },
  {
   "cell_type": "code",
   "execution_count": 142,
   "id": "9d712537",
   "metadata": {},
   "outputs": [
    {
     "data": {
      "image/png": "[encoded data removed]",
      "text/plain": [
       "<Figure size 432x288 with 1 Axes>"
      ]
     },
     "metadata": {
      "needs_background": "light"
     },
     "output_type": "display_data"
    }
   ],
   "source": [
    "# Visualize the training process\n",
    "plt.plot(history.history['accuracy'], label='accuracy')\n",
    "plt.plot(history.history['val_accuracy'], label='val_accuracy')\n",
    "plt.title('Model Accuracy')\n",
    "plt.xlabel('Epochs')\n",
    "plt.ylabel('Accuracy')\n",
    "plt.legend()\n",
    "plt.show()"
   ]
  },
  {
   "cell_type": "code",
   "execution_count": 143,
   "id": "a8255e50",
   "metadata": {},
   "outputs": [
    {
     "data": {
      "image/png": "[encoded data removed]",
      "text/plain": [
       "<Figure size 432x288 with 1 Axes>"
      ]
     },
     "metadata": {
      "needs_background": "light"
     },
     "output_type": "display_data"
    }
   ],
   "source": [
    "plt.plot(history.history['loss'], label='loss')\n",
    "plt.plot(history.history['val_loss'], label='val_loss')\n",
    "plt.title('Model Loss')\n",
    "plt.xlabel('Epochs')\n",
    "plt.ylabel('Loss')\n",
    "plt.legend()\n",
    "plt.show()\n"
   ]
  },
  {
   "cell_type": "code",
   "execution_count": null,
   "id": "e1ea97d9",
   "metadata": {},
   "outputs": [],
   "source": []
  }
 ],
 "metadata": {
  "kernelspec": {
   "display_name": "Python 3 (ipykernel)",
   "language": "python",
   "name": "python3"
  },
  "language_info": {
   "codemirror_mode": {
    "name": "ipython",
    "version": 3
   },
   "file_extension": ".py",
   "mimetype": "text/x-python",
   "name": "python",
   "nbconvert_exporter": "python",
   "pygments_lexer": "ipython3",
   "version": "3.9.12"
  }
 },
 "nbformat": 4,
 "nbformat_minor": 5
}
